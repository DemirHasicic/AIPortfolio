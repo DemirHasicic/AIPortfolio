{
  "nbformat": 4,
  "nbformat_minor": 0,
  "metadata": {
    "colab": {
      "provenance": [],
      "collapsed_sections": [
        "lUOpme2Sj16T",
        "XxjwhvgXjw9H"
      ],
      "include_colab_link": true
    },
    "kernelspec": {
      "name": "python3",
      "display_name": "Python 3"
    },
    "language_info": {
      "name": "python"
    }
  },
  "cells": [
    {
      "cell_type": "markdown",
      "metadata": {
        "id": "view-in-github",
        "colab_type": "text"
      },
      "source": [
        "<a href=\"https://colab.research.google.com/github/DemirHasicic/AIPortfolio/blob/main/VI_lab2_pynb.ipynb\" target=\"_parent\"><img src=\"https://colab.research.google.com/assets/colab-badge.svg\" alt=\"Open In Colab\"/></a>"
      ]
    },
    {
      "cell_type": "markdown",
      "source": [
        "# ZADATAK 1: Rad u Pandas"
      ],
      "metadata": {
        "id": "lUOpme2Sj16T"
      }
    },
    {
      "cell_type": "code",
      "source": [
        "from google.colab import drive\n",
        "drive.mount('/content/drive')"
      ],
      "metadata": {
        "colab": {
          "base_uri": "https://localhost:8080/",
          "height": 328
        },
        "id": "NmZMt9qV-GNE",
        "outputId": "9ba28a48-8657-4d14-d11e-a774c172eb6d"
      },
      "execution_count": null,
      "outputs": [
        {
          "output_type": "error",
          "ename": "MessageError",
          "evalue": "ignored",
          "traceback": [
            "\u001b[0;31m---------------------------------------------------------------------------\u001b[0m",
            "\u001b[0;31mMessageError\u001b[0m                              Traceback (most recent call last)",
            "\u001b[0;32m<ipython-input-1-d5df0069828e>\u001b[0m in \u001b[0;36m<module>\u001b[0;34m()\u001b[0m\n\u001b[1;32m      1\u001b[0m \u001b[0;32mfrom\u001b[0m \u001b[0mgoogle\u001b[0m\u001b[0;34m.\u001b[0m\u001b[0mcolab\u001b[0m \u001b[0;32mimport\u001b[0m \u001b[0mdrive\u001b[0m\u001b[0;34m\u001b[0m\u001b[0;34m\u001b[0m\u001b[0m\n\u001b[0;32m----> 2\u001b[0;31m \u001b[0mdrive\u001b[0m\u001b[0;34m.\u001b[0m\u001b[0mmount\u001b[0m\u001b[0;34m(\u001b[0m\u001b[0;34m'/content/drive'\u001b[0m\u001b[0;34m)\u001b[0m\u001b[0;34m\u001b[0m\u001b[0;34m\u001b[0m\u001b[0m\n\u001b[0m",
            "\u001b[0;32m/usr/local/lib/python3.7/dist-packages/google/colab/drive.py\u001b[0m in \u001b[0;36mmount\u001b[0;34m(mountpoint, force_remount, timeout_ms, use_metadata_server)\u001b[0m\n\u001b[1;32m    113\u001b[0m       \u001b[0mforce_remount\u001b[0m\u001b[0;34m=\u001b[0m\u001b[0mforce_remount\u001b[0m\u001b[0;34m,\u001b[0m\u001b[0;34m\u001b[0m\u001b[0;34m\u001b[0m\u001b[0m\n\u001b[1;32m    114\u001b[0m       \u001b[0mtimeout_ms\u001b[0m\u001b[0;34m=\u001b[0m\u001b[0mtimeout_ms\u001b[0m\u001b[0;34m,\u001b[0m\u001b[0;34m\u001b[0m\u001b[0;34m\u001b[0m\u001b[0m\n\u001b[0;32m--> 115\u001b[0;31m       ephemeral=True)\n\u001b[0m\u001b[1;32m    116\u001b[0m \u001b[0;34m\u001b[0m\u001b[0m\n\u001b[1;32m    117\u001b[0m \u001b[0;34m\u001b[0m\u001b[0m\n",
            "\u001b[0;32m/usr/local/lib/python3.7/dist-packages/google/colab/drive.py\u001b[0m in \u001b[0;36m_mount\u001b[0;34m(mountpoint, force_remount, timeout_ms, use_metadata_server, ephemeral)\u001b[0m\n\u001b[1;32m    133\u001b[0m   \u001b[0;32mif\u001b[0m \u001b[0mephemeral\u001b[0m\u001b[0;34m:\u001b[0m\u001b[0;34m\u001b[0m\u001b[0;34m\u001b[0m\u001b[0m\n\u001b[1;32m    134\u001b[0m     _message.blocking_request(\n\u001b[0;32m--> 135\u001b[0;31m         'request_auth', request={'authType': 'dfs_ephemeral'}, timeout_sec=None)\n\u001b[0m\u001b[1;32m    136\u001b[0m \u001b[0;34m\u001b[0m\u001b[0m\n\u001b[1;32m    137\u001b[0m   \u001b[0mmountpoint\u001b[0m \u001b[0;34m=\u001b[0m \u001b[0m_os\u001b[0m\u001b[0;34m.\u001b[0m\u001b[0mpath\u001b[0m\u001b[0;34m.\u001b[0m\u001b[0mexpanduser\u001b[0m\u001b[0;34m(\u001b[0m\u001b[0mmountpoint\u001b[0m\u001b[0;34m)\u001b[0m\u001b[0;34m\u001b[0m\u001b[0;34m\u001b[0m\u001b[0m\n",
            "\u001b[0;32m/usr/local/lib/python3.7/dist-packages/google/colab/_message.py\u001b[0m in \u001b[0;36mblocking_request\u001b[0;34m(request_type, request, timeout_sec, parent)\u001b[0m\n\u001b[1;32m    173\u001b[0m   request_id = send_request(\n\u001b[1;32m    174\u001b[0m       request_type, request, parent=parent, expect_reply=True)\n\u001b[0;32m--> 175\u001b[0;31m   \u001b[0;32mreturn\u001b[0m \u001b[0mread_reply_from_input\u001b[0m\u001b[0;34m(\u001b[0m\u001b[0mrequest_id\u001b[0m\u001b[0;34m,\u001b[0m \u001b[0mtimeout_sec\u001b[0m\u001b[0;34m)\u001b[0m\u001b[0;34m\u001b[0m\u001b[0;34m\u001b[0m\u001b[0m\n\u001b[0m",
            "\u001b[0;32m/usr/local/lib/python3.7/dist-packages/google/colab/_message.py\u001b[0m in \u001b[0;36mread_reply_from_input\u001b[0;34m(message_id, timeout_sec)\u001b[0m\n\u001b[1;32m    104\u001b[0m         reply.get('colab_msg_id') == message_id):\n\u001b[1;32m    105\u001b[0m       \u001b[0;32mif\u001b[0m \u001b[0;34m'error'\u001b[0m \u001b[0;32min\u001b[0m \u001b[0mreply\u001b[0m\u001b[0;34m:\u001b[0m\u001b[0;34m\u001b[0m\u001b[0;34m\u001b[0m\u001b[0m\n\u001b[0;32m--> 106\u001b[0;31m         \u001b[0;32mraise\u001b[0m \u001b[0mMessageError\u001b[0m\u001b[0;34m(\u001b[0m\u001b[0mreply\u001b[0m\u001b[0;34m[\u001b[0m\u001b[0;34m'error'\u001b[0m\u001b[0;34m]\u001b[0m\u001b[0;34m)\u001b[0m\u001b[0;34m\u001b[0m\u001b[0;34m\u001b[0m\u001b[0m\n\u001b[0m\u001b[1;32m    107\u001b[0m       \u001b[0;32mreturn\u001b[0m \u001b[0mreply\u001b[0m\u001b[0;34m.\u001b[0m\u001b[0mget\u001b[0m\u001b[0;34m(\u001b[0m\u001b[0;34m'data'\u001b[0m\u001b[0;34m,\u001b[0m \u001b[0;32mNone\u001b[0m\u001b[0;34m)\u001b[0m\u001b[0;34m\u001b[0m\u001b[0;34m\u001b[0m\u001b[0m\n\u001b[1;32m    108\u001b[0m \u001b[0;34m\u001b[0m\u001b[0m\n",
            "\u001b[0;31mMessageError\u001b[0m: Error: credential propagation was unsuccessful"
          ]
        }
      ]
    },
    {
      "cell_type": "code",
      "source": [
        "import pandas as pd\n",
        "import numpy as np\n",
        "data = pd.read_csv('dataset.csv')\n",
        "data"
      ],
      "metadata": {
        "id": "0NYqihR6A_cH"
      },
      "execution_count": null,
      "outputs": []
    },
    {
      "cell_type": "code",
      "source": [
        "#a)Učitati datoteku kao Pandas dataframe, te prikazati prvih 5 i posljednjih 10 unosa\n",
        "data.head()\n",
        "data.tail(10)\n",
        "#U zagrade se piše koji broj instanci/redova želimo imati prikazane\n"
      ],
      "metadata": {
        "id": "lMqAyuh3CLeA"
      },
      "execution_count": null,
      "outputs": []
    },
    {
      "cell_type": "code",
      "source": [
        "#b)Ispisati samo podatke vezane za redovne parcijalne ispite(Ispit1 i Ispit2¸\n",
        "data.loc[:,'Ispit1']"
      ],
      "metadata": {
        "id": "R8yMcULECy3b"
      },
      "execution_count": null,
      "outputs": []
    },
    {
      "cell_type": "code",
      "source": [
        "data.loc[:,'Ispit2']"
      ],
      "metadata": {
        "id": "UFv-gwrpFc5P"
      },
      "execution_count": null,
      "outputs": []
    },
    {
      "cell_type": "code",
      "source": [
        "#c)Ispisati sve studente koji su izgubili prisustvo\n",
        "data.loc[data['Prisustvo']==0]"
      ],
      "metadata": {
        "id": "nuXZ9zQqFozJ"
      },
      "execution_count": null,
      "outputs": []
    },
    {
      "cell_type": "code",
      "source": [
        "#d)Ispisati indeks, ukupne bodove i ocjenu za sve studente sa ocjenom 8 ili viš\n",
        "\n",
        "data.loc[(data['Ocjena'] =='8')| (data['Ocjena']=='9')| (data['Ocjena']=='10'), ['Indeks', 'UKUPNO','Ocjena']]"
      ],
      "metadata": {
        "id": "dwPVZ4KHGCJO"
      },
      "execution_count": null,
      "outputs": []
    },
    {
      "cell_type": "code",
      "source": [
        "#e)Sve nedostajuce vrijednosti zamijeniti sa vrijednoscu np.nan\n",
        "data.replace('/', np.nan, inplace=True)"
      ],
      "metadata": {
        "id": "d69mmQ5ZXhLF"
      },
      "execution_count": null,
      "outputs": []
    },
    {
      "cell_type": "code",
      "source": [
        "#f)Izbaciti sve studente koji nemaju ocjenu\n",
        "bez_ocjena = data[data['Ocjena']=='/'].index\n",
        "data.drop(bez_ocjena, inplace=True)\n",
        "data = data.reset_index(drop=True)\n",
        " #Pošto se u pozadini .csv reazlizira kao hash mapa nakon izbacivanja nece biti nuzno ocuvan redoslijed"
      ],
      "metadata": {
        "id": "t__Jix_qX6A9"
      },
      "execution_count": null,
      "outputs": []
    },
    {
      "cell_type": "code",
      "source": [
        "#g)Kreirati kolonu ispit1_finalu koju ćete za svakog studenta upisati onaj rezultat ispita koji je bolji (na\n",
        "#primjer, ako je student bolje uradio popravni ispit, onda tu pišete bodove sa popravnog, a u protivnom sa\n",
        "#redovnog);\n",
        "\n",
        "data['Ispit1_final'] = np.where(data['Ispit1']>data['Ispit1_popravni'],data['Ispit1'], data['Ispit1_popravni'])\n",
        "#data['Ispit1_final'] = data['Ispit1']\n",
        "#data.loc[data['Ispit1'] < data['Ispit1_popravni'],'Ispit1_final'] = data['Ispit1_popravni']\n",
        "data\n",
        "#Radi za sve osim za prvi\n"
      ],
      "metadata": {
        "id": "M1JiU3CrYxrF"
      },
      "execution_count": null,
      "outputs": []
    },
    {
      "cell_type": "code",
      "source": [
        "data['Ispit2_final'] = np.where(data['Ispit2']>data['Ispit2_popravni'], data['Ispit2'], data['Ispit2_popravni'])\n",
        "data"
      ],
      "metadata": {
        "id": "ukdTNlGueXHB"
      },
      "execution_count": null,
      "outputs": []
    },
    {
      "cell_type": "code",
      "source": [
        "data.drop(['Ispit1','Ispit1_popravni', 'Ispit2', 'Ispit2_popravni'],axis=1, inplace=True)"
      ],
      "metadata": {
        "id": "hLpmZKQ7eslt"
      },
      "execution_count": null,
      "outputs": []
    },
    {
      "cell_type": "code",
      "source": [
        "data.to_csv('izvjestaj_modificirano.csv', sep=';')\n"
      ],
      "metadata": {
        "id": "Q-Y5XlbtfFKs"
      },
      "execution_count": null,
      "outputs": []
    },
    {
      "cell_type": "code",
      "source": [
        "import pickle"
      ],
      "metadata": {
        "id": "xVEvLmukihgi"
      },
      "execution_count": null,
      "outputs": []
    },
    {
      "cell_type": "code",
      "source": [
        "pickle.dump('izvjestaj_modificirano.csv', open(\"izvjestaj_modificirano_pickle.p\", \"wb\"), protocol = pickle.HIGHEST_PROTOCOL)\n",
        "\n"
      ],
      "metadata": {
        "id": "2609llKygQ-i"
      },
      "execution_count": null,
      "outputs": []
    },
    {
      "cell_type": "markdown",
      "source": [
        "# ZADATAK 2 : Rad u Sklearn\n"
      ],
      "metadata": {
        "id": "XxjwhvgXjw9H"
      }
    },
    {
      "cell_type": "code",
      "source": [
        "#a)Ucitati datoteku kao pandas datoteku\n",
        "data1 = pd.read_csv('izvjestaj_modificirano.csv')"
      ],
      "metadata": {
        "id": "ZWkhKrRIj0Gw"
      },
      "execution_count": null,
      "outputs": []
    },
    {
      "cell_type": "code",
      "source": [
        "data1"
      ],
      "metadata": {
        "id": "TY2653solbc6"
      },
      "execution_count": null,
      "outputs": []
    },
    {
      "cell_type": "code",
      "source": [
        "#b)Za kolone koje predstavljaju Ispite Nan vrijednosti zamijeniti sa median\n",
        "from sklearn.impute import SimpleImputer\n",
        "si = SimpleImputer(strategy='median')\n",
        "data.loc[:,'Ispit2'] = si.fit_transform(data.loc[:, 'Ispit2'].values.reshape(-1,1))\n",
        "data.loc[:, 'Ispit1'] = si.fit_transform(data.loc[:, 'Ispit1'].values.reshape(-1,1))\n",
        "data"
      ],
      "metadata": {
        "id": "YajUbLf_mZff"
      },
      "execution_count": null,
      "outputs": []
    },
    {
      "cell_type": "code",
      "source": [
        "#c)Za kolone koje predstavljaju ispite Nan vrijednosti zamijeniti sa mean\n",
        "from sklearn.impute import SimpleImputer\n",
        "si1 = SimpleImputer(strategy='mean')\n",
        "data.loc[:, 'Ispit2'] = si.fit_transform(data.loc[:, 'Ispit2'].values.reshape(-1,1))\n",
        "data.loc[:, 'Ispit1'] = si.fit_transform(data.loc[:, 'Ispit1'].values.reshape(-1,1))\n",
        "#Obzirom da se radi samo mijenjanje NaN vrijednosti nad jednom kolonom, neophodno je koristiti funkciju reshape,\n",
        "#jer SimpleImputer očekuje 2D niz. Ukoliko se radi zamjena nad više kolona (ili redova) istovremeno,\n",
        "#tada se funkcija reshape treba izostaviti.\n",
        "data.loc[:5,'Ispit2']\n",
        "data.loc[:5, 'Ispit1']"
      ],
      "metadata": {
        "id": "JIJl99tYo6Fm"
      },
      "execution_count": null,
      "outputs": []
    },
    {
      "cell_type": "code",
      "source": [
        "#d)Izvrsiti z-score normalizaciju\n",
        "from sklearn.preprocessing import scale\n",
        "data['Ispit2'] = scale(data['Ispit2'])\n",
        "data.loc[:5, 'Ispit2']\n",
        "data['Ispit1'] = scale(data['Ispit2'])\n",
        "data.loc[:5, 'Ispit1']"
      ],
      "metadata": {
        "id": "pUOaCFh82BO4"
      },
      "execution_count": null,
      "outputs": []
    },
    {
      "cell_type": "code",
      "source": [
        "#e)Izvrisiti MinMax normalizaciju za popravne\n",
        "from sklearn.preprocessing import MinMaxScaler\n",
        "mm=MinMaxScaler()\n",
        "data['Ispit1_popravni'] = mm.fit_transform(data['Ispit1_popravni'].values.reshape(-1,1))\n",
        "data['Ispit2_popravni'] = mm.fit_transform(data['Ispit2_popravni'].values.reshape(-1,1))\n",
        "#data.loc[:5, 'Ispit1_popravni']"
      ],
      "metadata": {
        "id": "lSUb-bgP2ovC"
      },
      "execution_count": null,
      "outputs": []
    },
    {
      "cell_type": "code",
      "source": [
        "#f) Nedostajuće vrijednosti zamijeniti sa nulama\n",
        "data.replace('/', '0', inplace=True)"
      ],
      "metadata": {
        "id": "LHk_SE9s4cYZ"
      },
      "execution_count": null,
      "outputs": []
    },
    {
      "cell_type": "code",
      "source": [
        "#g) Izdvojiti kolonu ocjena u posebnu varijablu na nacin da ta kolona vise ne postoji\n",
        "X = data['Ocjena']\n",
        "data.drop('Ocjena', axis=1, inplace=True)"
      ],
      "metadata": {
        "id": "4txrIQrd4u8H"
      },
      "execution_count": null,
      "outputs": []
    },
    {
      "cell_type": "code",
      "source": [
        "#h) Konvertovati originalni skup podataka u numpy niz, kao i varijablu X\n",
        "Y = data.to_numpy()\n",
        "X = X.to_numpy()"
      ],
      "metadata": {
        "id": "Obb6rmLD43Ti"
      },
      "execution_count": null,
      "outputs": []
    },
    {
      "cell_type": "code",
      "source": [
        "#i) Ako X predstavlja labele, a ostatak data predstavlja atribute, izvrisit podjelu na trening i test skup podataka, za trening 80%, za testni 20%\n",
        "import numpy as np\n",
        "from sklearn.model_selection import train_test_split\n",
        "X_train, X_test, Y_train, Y_test = train_test_split(X, Y, test_size=0.20, random_state = 42)"
      ],
      "metadata": {
        "id": "gqahiAZz8ZAH"
      },
      "execution_count": null,
      "outputs": []
    },
    {
      "cell_type": "code",
      "source": [
        "X_train\n",
        "X_test\n",
        "Y_train\n",
        "Y_test"
      ],
      "metadata": {
        "id": "GlZoqdMO9L3C"
      },
      "execution_count": null,
      "outputs": []
    },
    {
      "cell_type": "markdown",
      "source": [
        "# 'ZADATAK' 3: Klasični algoritam mašinskog učenja"
      ],
      "metadata": {
        "id": "-XHsNu-99rBP"
      }
    },
    {
      "cell_type": "code",
      "source": [
        "#a) Ucitali smo podatke za iris iz postojece biblioteke load_iris, te ispisale atribute i nazive labela za taj dataset\n",
        "from sklearn.datasets import load_iris\n",
        "iris = load_iris()\n",
        "x = iris.data\n",
        "y = iris.target\n",
        "feature_names = iris.feature_names\n",
        "target_names  = iris.target_names\n",
        "print(\"Nazivi znacajki : \", feature_names)\n",
        "print(\"Nazivi labela : \", target_names)\n",
        "print(\"\\nPrvih 5 redova X :\\n\", x[:5])"
      ],
      "metadata": {
        "id": "YsYgthJQ9tvH"
      },
      "execution_count": null,
      "outputs": []
    },
    {
      "cell_type": "code",
      "source": [
        "#b) Podjela skupa podataka na testni i trening skup\n",
        "from sklearn.model_selection import train_test_split\n",
        "x_train, x_test, y_train, y_test = train_test_split(x, y, test_size = 0.3, random_state = 1)\n",
        "print(y_train.shape)\n",
        "print(y_test.shape)\n",
        "print(x_test.shape)\n",
        "print(x_train.shape)"
      ],
      "metadata": {
        "colab": {
          "base_uri": "https://localhost:8080/"
        },
        "id": "K7c3UXdLAEPt",
        "outputId": "30879cc8-ed74-4f68-e6bc-267104111190"
      },
      "execution_count": null,
      "outputs": [
        {
          "output_type": "stream",
          "name": "stdout",
          "text": [
            "(105,)\n",
            "(45,)\n",
            "(45, 4)\n",
            "(105, 4)\n"
          ]
        }
      ]
    },
    {
      "cell_type": "code",
      "source": [
        "#c) Primjenjujemo odgovarajući algoritam na testni i trening skup u ovom slucaju k - NN , ovaj algoritam svaki podataka mapira kao n-dimenzionalnu tačku. Klasa podatka se zatim\n",
        "# odredđuje na osnovu k-najblizih tacaka u tom prostoru. Uzima se ona klasa koja se pojavljuje najcesce u blizini k najblizih susjeda\n",
        "from sklearn.neighbors import KNeighborsClassifier\n",
        "from sklearn import metrics\n",
        "classifier_kn = KNeighborsClassifier(n_neighbors = 31)\n",
        "classifier_kn.fit(x_train, y_train)"
      ],
      "metadata": {
        "colab": {
          "base_uri": "https://localhost:8080/"
        },
        "id": "2FYc_GBXBWhm",
        "outputId": "0b2c8d0b-75bd-4ca7-f656-8dcc25e2d152"
      },
      "execution_count": null,
      "outputs": [
        {
          "output_type": "execute_result",
          "data": {
            "text/plain": [
              "KNeighborsClassifier(n_neighbors=31)"
            ]
          },
          "metadata": {},
          "execution_count": 131
        }
      ]
    },
    {
      "cell_type": "code",
      "source": [
        "#d) Sada algoritam primjenjujemo na testnom skupu, kako bi se odredila uspjesnost, pisemo x_test jer su x podaci iris.data , OPTIMALNA VRIJEDNOST K <=31\n",
        "y_pred = classifier_kn.predict(x_test)\n",
        "print(\"Tacnost :  \", metrics.accuracy_score(y_test, y_pred))"
      ],
      "metadata": {
        "colab": {
          "base_uri": "https://localhost:8080/"
        },
        "id": "DFiX7OWVCcLI",
        "outputId": "ef98c0e4-2a8d-42da-d0ea-32dde37682cf"
      },
      "execution_count": null,
      "outputs": [
        {
          "output_type": "stream",
          "name": "stdout",
          "text": [
            "Tacnost :   0.9777777777777777\n"
          ]
        }
      ]
    },
    {
      "cell_type": "markdown",
      "source": [
        "# ZADATAK 4 : Deep Learning"
      ],
      "metadata": {
        "id": "hmeb3SaKEVlC"
      }
    },
    {
      "cell_type": "code",
      "source": [
        "#a) Keras ima ucitane podatke slika sa brojevima njih 70000 i vec su podijeljeni na trening i test podatke, samo ih ucitamo iz kerasa\n",
        "from keras.datasets import mnist\n",
        "(x_train, y_train), (x_test, y_test) = mnist.load_data()\n",
        "print(x_train.shape)\n",
        "print(x_test.shape)\n",
        "print(y_train.shape)\n",
        "print(y_test.shape)"
      ],
      "metadata": {
        "id": "Art7qnqzEY1f"
      },
      "execution_count": null,
      "outputs": []
    },
    {
      "cell_type": "code",
      "source": [
        "#b) Kako bi se ove slike mogle poslati u neuralnu mrezu potrebno ih je pretvoriti u brojeve u pokretnom zarezu, te ih svesti na opseg izmedju 0 i 1\n",
        "#posto pikseli greyscale slika zauzimaju vrijednosti izmedju 0 i 255 mozemo ih jednostavno podijeliti sa 255 i dobiti trazeni opseg\n",
        "train_images = x_train.reshape ((x_train.shape[0], 28*28))\n",
        "train_images = train_images.astype('float32') /255\n",
        "\n",
        "test_images = x_test.reshape((x_test.shape[0], 28*28))\n",
        "test_images = test_images.astype('float32')/255\n",
        "print(test_images.shape)\n",
        "print(train_images.shape)\n",
        "print(test_images)\n"
      ],
      "metadata": {
        "id": "FVQneaqrE9vf"
      },
      "execution_count": null,
      "outputs": []
    },
    {
      "cell_type": "code",
      "source": [
        "#c) Nakon što su podaci sprmeni moze se napraviti jednostavan model neuralne mreze. Kreira se model pa se dodaju slojevi\n",
        "#Model se moze zamisliti kao sito za podatke gdje svaki sloj filtrira podatke (nadamo se na koristan nacin), posljednji sloj je softmax sloj i on ispisuje\n",
        "#niz vjerovatnoca (cija je suma 1), svaka vrijednost u tom nizu oznacava s kojom vjerovatncom slika pripada odredjenoj cifri gdje cifra predstavlja objekat"
      ],
      "metadata": {
        "id": "HWzYiCTTHDUz"
      },
      "execution_count": null,
      "outputs": []
    },
    {
      "cell_type": "code",
      "source": [
        "from keras import models\n",
        "from keras import layers\n",
        "network = models.Sequential()\n",
        "network.add(layers.Dense(512, activation = 'relu', input_shape = (28*28,)))\n",
        "network.add(layers.Dense(10, activation = 'softmax'))"
      ],
      "metadata": {
        "id": "G8RGQh21HPV8"
      },
      "execution_count": null,
      "outputs": []
    },
    {
      "cell_type": "code",
      "source": [
        "#d) Nakon definisanja modela, potrebno ga je i trenirati , kako bi to bilo moguce model se treba i kompajlirati\n",
        "#kompajliranje se sastoji od odabira 3 parametra 1)funkcije gubitka(Oznaca kako neuralna mreza moze mjeriti svoje performanse, te na osnovu nje prilagodjava procese treniranja)\n",
        "#2) Optimizator mehanizam kojim se neuralna mreza aktualizira, 3)metrike koje se prate tokom testiranja i treniranja , samo tačnost gledamo / kod funkcije gubitka sve performanse\n",
        "network.compile(optimizer = 'rmsprop', loss = 'categorical_crossentropy', metrics = ['accuracy'])"
      ],
      "metadata": {
        "id": "6wwKaAJSIOS1"
      },
      "execution_count": null,
      "outputs": []
    },
    {
      "cell_type": "code",
      "source": [
        "#e) Izlaz iz neuralne mreze je niz od 10 elemenata . Shodno tome izvrsavamo pravilno prilagođavanje labele izlazu, izvrsimo one-hot kodiranje istih. Ovo kodiranje predstavlja pretvaranje\n",
        "#labele u niz od 10 elemenata  npr 3 -> [0 0 0 1 0 0 0 0 0 0] (kao indeksacija 0,1,2,3,4,5,6,7,8,9, pa je na mjestu gdje je 3 stavljena jedinica)\n",
        "from tensorflow.keras.utils import to_categorical\n",
        "train_labels = to_categorical(y_train)\n",
        "test_labels = to_categorical(y_test)\n"
      ],
      "metadata": {
        "id": "PpNf0J8dJK3x"
      },
      "execution_count": null,
      "outputs": []
    },
    {
      "cell_type": "code",
      "source": [
        "#f) Spremno sve da se mreza trenira\n",
        "network.fit(train_images, train_labels, epochs=5, batch_size=128)"
      ],
      "metadata": {
        "colab": {
          "base_uri": "https://localhost:8080/"
        },
        "id": "OEuPqbT3J6hw",
        "outputId": "9cf1ee25-92cc-4ef0-fd42-bafe0b4b1432"
      },
      "execution_count": null,
      "outputs": [
        {
          "output_type": "stream",
          "name": "stdout",
          "text": [
            "Epoch 1/5\n",
            "469/469 [==============================] - 6s 11ms/step - loss: 0.2591 - accuracy: 0.9249\n",
            "Epoch 2/5\n",
            "469/469 [==============================] - 5s 11ms/step - loss: 0.1050 - accuracy: 0.9685\n",
            "Epoch 3/5\n",
            "469/469 [==============================] - 5s 10ms/step - loss: 0.0693 - accuracy: 0.9796\n",
            "Epoch 4/5\n",
            "469/469 [==============================] - 5s 11ms/step - loss: 0.0497 - accuracy: 0.9853\n",
            "Epoch 5/5\n",
            "469/469 [==============================] - 5s 10ms/step - loss: 0.0377 - accuracy: 0.9888\n"
          ]
        },
        {
          "output_type": "execute_result",
          "data": {
            "text/plain": [
              "<keras.callbacks.History at 0x7fd61ac97fd0>"
            ]
          },
          "metadata": {},
          "execution_count": 156
        }
      ]
    },
    {
      "cell_type": "code",
      "source": [
        "#g)\n",
        "test_loss, test_acc = network.evaluate(test_images, test_labels)\n",
        "train_loss, train_acc = network.evaluate(train_images, train_labels)\n",
        "print(\"Tacnost za testni skup: \", test_acc)\n",
        "print(\"Tacnost za trening skup: \", train_acc)\n",
        "\n",
        "#Vidimo da postoji razlika od oko 0.2 izmedju trening i testnog skupa, zadovoljavajuci je rezultat jer je trening skup 0.33 dio testnog skupa"
      ],
      "metadata": {
        "colab": {
          "base_uri": "https://localhost:8080/"
        },
        "id": "3Yv8pgybKDVm",
        "outputId": "e8ae1c48-44ec-4995-a768-6a0677158353"
      },
      "execution_count": null,
      "outputs": [
        {
          "output_type": "stream",
          "name": "stdout",
          "text": [
            "313/313 [==============================] - 2s 5ms/step - loss: 0.0705 - accuracy: 0.9786\n",
            "1875/1875 [==============================] - 6s 3ms/step - loss: 0.0261 - accuracy: 0.9926\n",
            "Tacnost za testni skup:  0.978600025177002\n",
            "Tacnost za trening skup:  0.9925666451454163\n"
          ]
        }
      ]
    },
    {
      "cell_type": "code",
      "source": [],
      "metadata": {
        "id": "fROo06qaKDPT"
      },
      "execution_count": null,
      "outputs": []
    }
  ]
}