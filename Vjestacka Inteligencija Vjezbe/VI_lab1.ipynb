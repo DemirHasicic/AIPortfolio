{
  "cells": [
    {
      "cell_type": "markdown",
      "metadata": {
        "id": "view-in-github",
        "colab_type": "text"
      },
      "source": [
        "<a href=\"https://colab.research.google.com/github/DemirHasicic/AIPortfolio/blob/main/Vjestacka%20Inteligencija%20Vjezbe/VI_lab1.ipynb\" target=\"_parent\"><img src=\"https://colab.research.google.com/assets/colab-badge.svg\" alt=\"Open In Colab\"/></a>"
      ]
    },
    {
      "cell_type": "code",
      "execution_count": null,
      "metadata": {
        "colab": {
          "base_uri": "https://localhost:8080/"
        },
        "id": "Rw7rFW5hgKT8",
        "outputId": "f1d847a6-06ce-4eae-a595-754e2d87a2a2"
      },
      "outputs": [
        {
          "name": "stdout",
          "output_type": "stream",
          "text": [
            "Hello world\n"
          ]
        }
      ],
      "source": [
        "print (\"Hello world\")"
      ]
    },
    {
      "cell_type": "code",
      "execution_count": null,
      "metadata": {
        "id": "ymvUy0Czh49p"
      },
      "outputs": [],
      "source": [
        "import math\n",
        "#python liste a) sortirati pa uzeti drugi, b) fibonacci sa for petljom, c) elif naci diskrim, d), 2. e) transpose, 4. netplotlib a) plt.plot(x,y1)\n",
        "plt.plot(x,y2)\n",
        "plt.grid(True)\n",
        "b) dokumentacija sub plots"
      ]
    },
    {
      "cell_type": "markdown",
      "metadata": {
        "id": "3v-hT5jblm1O"
      },
      "source": [
        "Zadatak 1"
      ]
    },
    {
      "cell_type": "code",
      "execution_count": null,
      "metadata": {
        "colab": {
          "base_uri": "https://localhost:8080/"
        },
        "id": "olccSF0Blq2B",
        "outputId": "98d986f5-498f-48b5-ae34-443b2a74b5ad"
      },
      "outputs": [
        {
          "name": "stdout",
          "output_type": "stream",
          "text": [
            "2629120.071450335\n",
            "23.640692632779263\n",
            "65630\n",
            "4\n"
          ]
        }
      ],
      "source": [
        "#a\n",
        "import math\n",
        "x=13*2.5**(124/9.3) + math.sqrt(3)\n",
        "print(x)\n",
        "#b\n",
        "x=math.cos(math.pi/3)+math.tan(math.pi)+(math.e)**(math.pi)\n",
        "print(x)\n",
        "#c\n",
        "print((2+3**8)*10)\n",
        "#d\n",
        "print(math.floor(79/18))\n"
      ]
    },
    {
      "cell_type": "markdown",
      "metadata": {
        "id": "IhzCSsxqoNZ_"
      },
      "source": [
        "Zadatak 2."
      ]
    },
    {
      "cell_type": "code",
      "execution_count": null,
      "metadata": {
        "id": "OgD4kyuOoRPw"
      },
      "outputs": [],
      "source": [
        "lista = []\n",
        "for i in range(1,10) :\n",
        "  lista.append(input())\n",
        "lista.sort(reverse=True);\n",
        "print(lista[1])\n"
      ]
    }
  ],
  "metadata": {
    "colab": {
      "provenance": [],
      "authorship_tag": "ABX9TyNlaa8svQY/z1qr1bNJ5mdy",
      "include_colab_link": true
    },
    "kernelspec": {
      "display_name": "Python 3",
      "name": "python3"
    },
    "language_info": {
      "name": "python"
    }
  },
  "nbformat": 4,
  "nbformat_minor": 0
}