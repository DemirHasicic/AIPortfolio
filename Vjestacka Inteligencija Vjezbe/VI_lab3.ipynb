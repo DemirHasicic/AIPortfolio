{
  "nbformat": 4,
  "nbformat_minor": 0,
  "metadata": {
    "colab": {
      "provenance": [],
      "authorship_tag": "ABX9TyMq67gJ7zKzDL/LbWV1GzU5",
      "include_colab_link": true
    },
    "kernelspec": {
      "name": "python3",
      "display_name": "Python 3"
    },
    "language_info": {
      "name": "python"
    }
  },
  "cells": [
    {
      "cell_type": "markdown",
      "metadata": {
        "id": "view-in-github",
        "colab_type": "text"
      },
      "source": [
        "<a href=\"https://colab.research.google.com/github/DemirHasicic/AIPortfolio/blob/main/Vjestacka%20Inteligencija%20Vjezbe/VI_lab3.ipynb\" target=\"_parent\"><img src=\"https://colab.research.google.com/assets/colab-badge.svg\" alt=\"Open In Colab\"/></a>"
      ]
    },
    {
      "cell_type": "markdown",
      "source": [
        "\n",
        "\n",
        "```\n",
        "`# This is formatted as code`\n",
        "```\n",
        "\n"
      ],
      "metadata": {
        "id": "u1LzMFYon1c1"
      }
    },
    {
      "cell_type": "code",
      "execution_count": null,
      "metadata": {
        "id": "UpiIrucOkrHj"
      },
      "outputs": [],
      "source": [
        "import pandas as pd\n",
        "data = pd.read_csv('dataset.csv')"
      ]
    },
    {
      "cell_type": "code",
      "source": [
        "data.describe()"
      ],
      "metadata": {
        "id": "3dsM0cBSq0T7"
      },
      "execution_count": null,
      "outputs": []
    },
    {
      "cell_type": "code",
      "source": [
        "data.hist()"
      ],
      "metadata": {
        "id": "vCjcQKYJrCrS"
      },
      "execution_count": null,
      "outputs": []
    },
    {
      "cell_type": "code",
      "source": [
        "#prikazan primjer gdje se skaler prvo uči na trening podacima, zatim se primnjenjuje na te podatke, i podatke za testiranje, ne uci se na testnim podacima\n",
        "#jer scaler mora da nauci na osnovu trening podataka kako bi mogao primjenjivati na nepoznate testne podatke\n",
        "from sklearn.preprocessing import MinMaxScaler\n",
        "scaler = MinMaxScaler().fit(x_train)\n",
        "x_train = scaler.fit_transform(x_train)\n",
        "x_test = scaler.fit_transform(x_test)"
      ],
      "metadata": {
        "id": "LrqkI0ElsC5p"
      },
      "execution_count": null,
      "outputs": []
    },
    {
      "cell_type": "code",
      "source": [
        "from keras import models\n",
        "from keras import layers\n",
        "model = models.Sequential()\n",
        "model.add(layers.Dense(8, activation='relu', input_shape=(4000,))) # broj neurona je prvi broj, ulazni sloj ima 4000 elemenata i to je broj atributa\n",
        "model.add(layers.Dense(8, activation='relu'))\n",
        "model.add(layers.Dense(1, activation='sigmoid')) #zadnji sloj ima 1 neuron jer je binarna klasifikacija\n"
      ],
      "metadata": {
        "id": "OLx3PrvSvMOb"
      },
      "execution_count": null,
      "outputs": []
    },
    {
      "cell_type": "code",
      "source": [
        "model.compile(optimizer='adam',loss='binary_crossentropy',metrics=['accuracy'])"
      ],
      "metadata": {
        "id": "6tZPnllhpAFP"
      },
      "execution_count": null,
      "outputs": []
    },
    {
      "cell_type": "code",
      "source": [
        "import pandas as pd\n",
        "red = pd.read_csv('winequality-red.csv', sep=';')\n",
        "white = pd.read_csv('winequality-white.csv', sep=';')"
      ],
      "metadata": {
        "id": "y_fasT1Trphr"
      },
      "execution_count": null,
      "outputs": []
    },
    {
      "cell_type": "code",
      "source": [
        "#a)U odgovarajucim dataframe objektima dodati novu kolonu label koja ce imati vrijednost 0 za podatke bijelog vina, a vrijednost 1 za podatke crnog vina\n",
        "red['label'] = '1'\n",
        "white['label'] = '0'\n",
        "#frames = [red, white]\n",
        "#wines = pd.concat(frames)\n",
        "wines = white.append(red)\n"
      ],
      "metadata": {
        "id": "0l6_52MAsf0O"
      },
      "execution_count": null,
      "outputs": []
    },
    {
      "cell_type": "code",
      "source": [
        "#b)Prikaz osnovnih podataka spojenog skupa koristenjem describe modela te nacrtati histogram\n",
        "wines.describe()"
      ],
      "metadata": {
        "id": "Zu7cTyQJskVu"
      },
      "execution_count": null,
      "outputs": []
    },
    {
      "cell_type": "code",
      "source": [
        "wines.hist()"
      ],
      "metadata": {
        "id": "rIMzrxFVuzkL"
      },
      "execution_count": null,
      "outputs": []
    },
    {
      "cell_type": "code",
      "source": [
        "#c)Iz wines izdvojiti x - karakteristike i y - labele\n",
        "x = wines.loc[:, wines.columns != \"label\"].to_numpy() #izdvajanje atributa\n",
        "y = wines[\"label\"].to_numpy() #izdvajanje labela\n",
        "from sklearn.model_selection import train_test_split\n",
        "x_train, x_test, y_train, y_test = train_test_split(x,y,test_size = 0.2)"
      ],
      "metadata": {
        "id": "Oexaat2PvCYh"
      },
      "execution_count": null,
      "outputs": []
    },
    {
      "cell_type": "code",
      "source": [
        "#d) Sekvencijalni keras sloj koji ce imati 2 dense sloja sa po 8 neurona i relu aktivacijsku funkciju. Prvom sloju\n",
        "#kao input shape prosliejditi parametar (12, ), izlazni sloj sa 1 neuronom\n",
        "from keras import models\n",
        "from keras import layers\n",
        "network = models.Sequential()\n",
        "network.add(layers.Dense(8, activation = 'relu', input_shape=(12,)))\n",
        "network.add(layers.Dense(8, activation = 'relu'))\n",
        "network.add(layers.Dense(1, activation = 'sigmoid'))"
      ],
      "metadata": {
        "id": "uqvhR-Tm0Vnw"
      },
      "execution_count": null,
      "outputs": []
    },
    {
      "cell_type": "code",
      "source": [
        "#e)Koristi adam optimizator, za funkciju gubitka binary_crossentropy, a kao metriku accuracy\n",
        "network.compile(optimizer='adam',loss='binary_crossentropy', metrics=['accuracy'])"
      ],
      "metadata": {
        "id": "a7lKjMjc2Ubl"
      },
      "execution_count": null,
      "outputs": []
    },
    {
      "cell_type": "code",
      "source": [
        "from sklearn.preprocessing import LabelEncoder\n",
        "from sklearn.preprocessing import OrdinalEncoder\n",
        "def prepare_inputs(X_train, X_test):\n",
        "  oe = OrdinalEncoder()\n",
        "  oe.fit(X_train)\n",
        "  X_train_enc = oe.transform(X_train)\n",
        "  X_test_enc = oe.transform(X_test)\n",
        "  return X_train_enc, X_test_enc\n",
        "\n",
        "def prepare_targets(y_train, y_test):\n",
        "  le = LabelEncoder()\n",
        "  le.fit(y_train)\n",
        "  y_train_enc = le.transform(y_train)\n",
        "  y_test_enc = le.transform(y_test)\n",
        "  return y_train_enc, y_test_enc"
      ],
      "metadata": {
        "id": "-FYRBacz8toE"
      },
      "execution_count": null,
      "outputs": []
    },
    {
      "cell_type": "code",
      "source": [
        "#f)Model istrenirati na 20 epoha sa velicinom batcha 16, provjeriti tacnost i vrijednost gubitka funkcije\n",
        "network.fit(x_train, y_train, epochs=20, batch_size=16)"
      ],
      "metadata": {
        "id": "sXhiyVXP2G2_"
      },
      "execution_count": null,
      "outputs": []
    },
    {
      "cell_type": "code",
      "source": [
        "from sklearn.preprocessing import StandardScaler\n",
        "scaler = StandardScaler().fit(x_train)\n",
        "x_train = scaler.transform(x_train)\n",
        "x_test = scaler.transform(x_test)\n",
        "model = models.Sequential()\n",
        "model.add(layers.Dense(8, activation=\"relu\", input_shape=(12,)))\n",
        "model.add(layers.Dense(8, activation=\"relu\"))\n",
        "model.add(layers.Dense(1, activation=\"sigmoid\"))\n",
        "model.compile(optimizer=\"adam\", loss=\"binary_crossentropy\", metrics=[\"accuracy\"])\n",
        "model.fit(x_train, y_train, epochs=20, batch_size=16)\n"
      ],
      "metadata": {
        "id": "ru-fMjuk0mN_"
      },
      "execution_count": null,
      "outputs": []
    },
    {
      "cell_type": "code",
      "source": [
        "results = network.evaluate(x_test, y_test)\n"
      ],
      "metadata": {
        "id": "gqXyR9NG_N9l"
      },
      "execution_count": null,
      "outputs": []
    },
    {
      "cell_type": "code",
      "source": [],
      "metadata": {
        "id": "9f0K0PMC1ypU"
      },
      "execution_count": null,
      "outputs": []
    }
  ]
}